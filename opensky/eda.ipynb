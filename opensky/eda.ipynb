{
 "nbformat": 4,
 "nbformat_minor": 2,
 "metadata": {
  "language_info": {
   "name": "python",
   "codemirror_mode": {
    "name": "ipython",
    "version": 3
   },
   "version": "3.7.5-candidate"
  },
  "orig_nbformat": 2,
  "file_extension": ".py",
  "mimetype": "text/x-python",
  "name": "python",
  "npconvert_exporter": "python",
  "pygments_lexer": "ipython3",
  "version": 3,
  "kernelspec": {
   "name": "python37564bitenvvenv4934c1f1e44441cd9ab5fb1e8ea2fcb9",
   "display_name": "Python 3.7.5 64-bit ('env': venv)"
  }
 },
 "cells": [
  {
   "cell_type": "code",
   "execution_count": null,
   "metadata": {},
   "outputs": [],
   "source": []
  },
  {
   "cell_type": "code",
   "execution_count": 24,
   "metadata": {},
   "outputs": [
    {
     "name": "stdout",
     "output_type": "stream",
     "text": "Requirement already satisfied: google-cloud-bigquery[pandas] in ./env/lib/python3.7/site-packages (from -r requirements.txt (line 1)) (1.24.0)\nRequirement already satisfied: altair in ./env/lib/python3.7/site-packages (from -r requirements.txt (line 2)) (4.0.1)\nRequirement already satisfied: vega_datasets in ./env/lib/python3.7/site-packages (from -r requirements.txt (line 3)) (0.8.0)\nCollecting matplotlib\n  Downloading matplotlib-3.1.3-cp37-cp37m-manylinux1_x86_64.whl (13.1 MB)\n\u001b[K     |████████████████████████████████| 13.1 MB 9.1 MB/s \n\u001b[?25hRequirement already satisfied: google-api-core<2.0dev,>=1.15.0 in ./env/lib/python3.7/site-packages (from google-cloud-bigquery[pandas]->-r requirements.txt (line 1)) (1.16.0)\nRequirement already satisfied: google-cloud-core<2.0dev,>=1.1.0 in ./env/lib/python3.7/site-packages (from google-cloud-bigquery[pandas]->-r requirements.txt (line 1)) (1.3.0)\nRequirement already satisfied: google-auth<2.0dev,>=1.9.0 in ./env/lib/python3.7/site-packages (from google-cloud-bigquery[pandas]->-r requirements.txt (line 1)) (1.11.2)\nRequirement already satisfied: google-resumable-media<0.6dev,>=0.5.0 in ./env/lib/python3.7/site-packages (from google-cloud-bigquery[pandas]->-r requirements.txt (line 1)) (0.5.0)\nRequirement already satisfied: six<2.0.0dev,>=1.13.0 in ./env/lib/python3.7/site-packages (from google-cloud-bigquery[pandas]->-r requirements.txt (line 1)) (1.14.0)\nRequirement already satisfied: protobuf>=3.6.0 in ./env/lib/python3.7/site-packages (from google-cloud-bigquery[pandas]->-r requirements.txt (line 1)) (3.11.3)\nRequirement already satisfied: pandas>=0.17.1; extra == \"pandas\" in ./env/lib/python3.7/site-packages (from google-cloud-bigquery[pandas]->-r requirements.txt (line 1)) (1.0.1)\nRequirement already satisfied: jinja2 in ./env/lib/python3.7/site-packages (from altair->-r requirements.txt (line 2)) (2.11.1)\nRequirement already satisfied: toolz in ./env/lib/python3.7/site-packages (from altair->-r requirements.txt (line 2)) (0.10.0)\nRequirement already satisfied: jsonschema in ./env/lib/python3.7/site-packages (from altair->-r requirements.txt (line 2)) (3.2.0)\nRequirement already satisfied: entrypoints in ./env/lib/python3.7/site-packages (from altair->-r requirements.txt (line 2)) (0.3)\nRequirement already satisfied: numpy in ./env/lib/python3.7/site-packages (from altair->-r requirements.txt (line 2)) (1.18.1)\nCollecting kiwisolver>=1.0.1\n  Downloading kiwisolver-1.1.0-cp37-cp37m-manylinux1_x86_64.whl (90 kB)\n\u001b[K     |████████████████████████████████| 90 kB 17.2 MB/s \n\u001b[?25hCollecting cycler>=0.10\n  Downloading cycler-0.10.0-py2.py3-none-any.whl (6.5 kB)\nRequirement already satisfied: python-dateutil>=2.1 in ./env/lib/python3.7/site-packages (from matplotlib->-r requirements.txt (line 4)) (2.8.1)\nCollecting pyparsing!=2.0.4,!=2.1.2,!=2.1.6,>=2.0.1\n  Downloading pyparsing-2.4.6-py2.py3-none-any.whl (67 kB)\n\u001b[K     |████████████████████████████████| 67 kB 9.4 MB/s \n\u001b[?25hRequirement already satisfied: setuptools>=34.0.0 in ./env/lib/python3.7/site-packages (from google-api-core<2.0dev,>=1.15.0->google-cloud-bigquery[pandas]->-r requirements.txt (line 1)) (45.2.0)\nRequirement already satisfied: googleapis-common-protos<2.0dev,>=1.6.0 in ./env/lib/python3.7/site-packages (from google-api-core<2.0dev,>=1.15.0->google-cloud-bigquery[pandas]->-r requirements.txt (line 1)) (1.51.0)\nRequirement already satisfied: requests<3.0.0dev,>=2.18.0 in ./env/lib/python3.7/site-packages (from google-api-core<2.0dev,>=1.15.0->google-cloud-bigquery[pandas]->-r requirements.txt (line 1)) (2.23.0)\nRequirement already satisfied: pytz in ./env/lib/python3.7/site-packages (from google-api-core<2.0dev,>=1.15.0->google-cloud-bigquery[pandas]->-r requirements.txt (line 1)) (2019.3)\nRequirement already satisfied: cachetools<5.0,>=2.0.0 in ./env/lib/python3.7/site-packages (from google-auth<2.0dev,>=1.9.0->google-cloud-bigquery[pandas]->-r requirements.txt (line 1)) (4.0.0)\nRequirement already satisfied: pyasn1-modules>=0.2.1 in ./env/lib/python3.7/site-packages (from google-auth<2.0dev,>=1.9.0->google-cloud-bigquery[pandas]->-r requirements.txt (line 1)) (0.2.8)\nRequirement already satisfied: rsa<4.1,>=3.1.4 in ./env/lib/python3.7/site-packages (from google-auth<2.0dev,>=1.9.0->google-cloud-bigquery[pandas]->-r requirements.txt (line 1)) (4.0)\nRequirement already satisfied: MarkupSafe>=0.23 in ./env/lib/python3.7/site-packages (from jinja2->altair->-r requirements.txt (line 2)) (1.1.1)\nRequirement already satisfied: attrs>=17.4.0 in ./env/lib/python3.7/site-packages (from jsonschema->altair->-r requirements.txt (line 2)) (19.3.0)\nRequirement already satisfied: pyrsistent>=0.14.0 in ./env/lib/python3.7/site-packages (from jsonschema->altair->-r requirements.txt (line 2)) (0.15.7)\nRequirement already satisfied: importlib-metadata; python_version < \"3.8\" in ./env/lib/python3.7/site-packages (from jsonschema->altair->-r requirements.txt (line 2)) (1.5.0)\nRequirement already satisfied: urllib3!=1.25.0,!=1.25.1,<1.26,>=1.21.1 in ./env/lib/python3.7/site-packages (from requests<3.0.0dev,>=2.18.0->google-api-core<2.0dev,>=1.15.0->google-cloud-bigquery[pandas]->-r requirements.txt (line 1)) (1.25.8)\nRequirement already satisfied: certifi>=2017.4.17 in ./env/lib/python3.7/site-packages (from requests<3.0.0dev,>=2.18.0->google-api-core<2.0dev,>=1.15.0->google-cloud-bigquery[pandas]->-r requirements.txt (line 1)) (2019.11.28)\nRequirement already satisfied: idna<3,>=2.5 in ./env/lib/python3.7/site-packages (from requests<3.0.0dev,>=2.18.0->google-api-core<2.0dev,>=1.15.0->google-cloud-bigquery[pandas]->-r requirements.txt (line 1)) (2.9)\nRequirement already satisfied: chardet<4,>=3.0.2 in ./env/lib/python3.7/site-packages (from requests<3.0.0dev,>=2.18.0->google-api-core<2.0dev,>=1.15.0->google-cloud-bigquery[pandas]->-r requirements.txt (line 1)) (3.0.4)\nRequirement already satisfied: pyasn1<0.5.0,>=0.4.6 in ./env/lib/python3.7/site-packages (from pyasn1-modules>=0.2.1->google-auth<2.0dev,>=1.9.0->google-cloud-bigquery[pandas]->-r requirements.txt (line 1)) (0.4.8)\nRequirement already satisfied: zipp>=0.5 in ./env/lib/python3.7/site-packages (from importlib-metadata; python_version < \"3.8\"->jsonschema->altair->-r requirements.txt (line 2)) (3.0.0)\nInstalling collected packages: kiwisolver, cycler, pyparsing, matplotlib\nSuccessfully installed cycler-0.10.0 kiwisolver-1.1.0 matplotlib-3.1.3 pyparsing-2.4.6\n"
    }
   ],
   "source": [
    "!pip3 install -r requirements.txt"
   ]
  },
  {
   "cell_type": "code",
   "execution_count": 8,
   "metadata": {},
   "outputs": [],
   "source": [
    "%load_ext google.cloud.bigquery"
   ]
  },
  {
   "cell_type": "code",
   "execution_count": 27,
   "metadata": {},
   "outputs": [],
   "source": [
    "%%bigquery coords\n",
    "SELECT time_position, latitude, longitude\n",
    "\n",
    "FROM `buoyant-site-244113.opensky.ingest`\n",
    "WHERE TRIM(callsign) = 'DL118'"
   ]
  },
  {
   "cell_type": "code",
   "execution_count": 50,
   "metadata": {},
   "outputs": [
    {
     "data": {
      "text/html": "<div>\n<style scoped>\n    .dataframe tbody tr th:only-of-type {\n        vertical-align: middle;\n    }\n\n    .dataframe tbody tr th {\n        vertical-align: top;\n    }\n\n    .dataframe thead th {\n        text-align: right;\n    }\n</style>\n<table border=\"1\" class=\"dataframe\">\n  <thead>\n    <tr style=\"text-align: right;\">\n      <th></th>\n      <th>time_position</th>\n      <th>latitude</th>\n      <th>longitude</th>\n    </tr>\n  </thead>\n  <tbody>\n    <tr>\n      <th>0</th>\n      <td>2020-02-23 20:51:19+00:00</td>\n      <td>34.0636</td>\n      <td>-118.2046</td>\n    </tr>\n    <tr>\n      <th>1</th>\n      <td>2020-02-23 21:01:28+00:00</td>\n      <td>34.7757</td>\n      <td>-116.9742</td>\n    </tr>\n    <tr>\n      <th>2</th>\n      <td>2020-02-23 20:46:59+00:00</td>\n      <td>33.8495</td>\n      <td>-118.6041</td>\n    </tr>\n    <tr>\n      <th>3</th>\n      <td>2020-02-23 20:57:59+00:00</td>\n      <td>34.5153</td>\n      <td>-117.4162</td>\n    </tr>\n    <tr>\n      <th>4</th>\n      <td>2020-02-23 20:48:59+00:00</td>\n      <td>33.9295</td>\n      <td>-118.4396</td>\n    </tr>\n  </tbody>\n</table>\n</div>",
      "text/plain": "              time_position  latitude  longitude\n0 2020-02-23 20:51:19+00:00   34.0636  -118.2046\n1 2020-02-23 21:01:28+00:00   34.7757  -116.9742\n2 2020-02-23 20:46:59+00:00   33.8495  -118.6041\n3 2020-02-23 20:57:59+00:00   34.5153  -117.4162\n4 2020-02-23 20:48:59+00:00   33.9295  -118.4396"
     },
     "execution_count": 50,
     "metadata": {},
     "output_type": "execute_result"
    }
   ],
   "source": [
    "coords.head()"
   ]
  },
  {
   "cell_type": "code",
   "execution_count": 65,
   "metadata": {},
   "outputs": [],
   "source": [
    "%%bigquery coords\n",
    "SELECT time_position, latitude, longitude\n",
    "\n",
    "FROM `buoyant-site-244113.opensky.ingest`\n",
    "WHERE RAND() < 0.001\n"
   ]
  },
  {
   "cell_type": "code",
   "execution_count": 22,
   "metadata": {},
   "outputs": [
    {
     "data": {
      "text/html": "<div>\n<style scoped>\n    .dataframe tbody tr th:only-of-type {\n        vertical-align: middle;\n    }\n\n    .dataframe tbody tr th {\n        vertical-align: top;\n    }\n\n    .dataframe thead th {\n        text-align: right;\n    }\n</style>\n<table border=\"1\" class=\"dataframe\">\n  <thead>\n    <tr style=\"text-align: right;\">\n      <th></th>\n      <th>max_lat</th>\n      <th>max_long</th>\n      <th>min_lat</th>\n      <th>min_long</th>\n    </tr>\n  </thead>\n  <tbody>\n    <tr>\n      <th>0</th>\n      <td>46.1063</td>\n      <td>-94.1968</td>\n      <td>33.8495</td>\n      <td>-118.6424</td>\n    </tr>\n  </tbody>\n</table>\n</div>",
      "text/plain": "   max_lat  max_long  min_lat  min_long\n0  46.1063  -94.1968  33.8495 -118.6424"
     },
     "execution_count": 22,
     "metadata": {},
     "output_type": "execute_result"
    }
   ],
   "source": [
    "%%bigquery\n",
    "SELECT MAX(latitude) AS max_lat, MAX(longitude) AS max_long, MIN(latitude) AS min_lat, MIN(longitude) as min_long\n",
    "\n",
    "FROM `buoyant-site-244113.opensky.ingest`\n",
    "WHERE TRIM(callsign) = 'DL118'"
   ]
  },
  {
   "cell_type": "code",
   "execution_count": null,
   "metadata": {},
   "outputs": [],
   "source": []
  },
  {
   "cell_type": "code",
   "execution_count": 66,
   "metadata": {},
   "outputs": [],
   "source": [
    "import numpy as np\n",
    "import matplotlib.pyplot as plt"
   ]
  },
  {
   "cell_type": "code",
   "execution_count": 67,
   "metadata": {},
   "outputs": [],
   "source": [
    "fig, ax = plt.subplots()\n",
    "\n",
    "ax.scatter(coords['latitude'], coords['longitude'])\n",
    "\n",
    "plt.show()"
   ]
  },
  {
   "cell_type": "code",
   "execution_count": 15,
   "metadata": {},
   "outputs": [],
   "source": [
    "import altair as alt\n",
    "from vega_datasets import data"
   ]
  },
  {
   "cell_type": "code",
   "execution_count": 60,
   "metadata": {},
   "outputs": [
    {
     "data": {
      "text/html": "\n<div id=\"altair-viz-50b69afa091447d7b371bf7266961f0a\"></div>\n<script type=\"text/javascript\">\n  (function(spec, embedOpt){\n    const outputDiv = document.getElementById(\"altair-viz-50b69afa091447d7b371bf7266961f0a\");\n    const paths = {\n      \"vega\": \"https://cdn.jsdelivr.net/npm//vega@5?noext\",\n      \"vega-lib\": \"https://cdn.jsdelivr.net/npm//vega-lib?noext\",\n      \"vega-lite\": \"https://cdn.jsdelivr.net/npm//vega-lite@4.0.2?noext\",\n      \"vega-embed\": \"https://cdn.jsdelivr.net/npm//vega-embed@6?noext\",\n    };\n\n    function loadScript(lib) {\n      return new Promise(function(resolve, reject) {\n        var s = document.createElement('script');\n        s.src = paths[lib];\n        s.async = true;\n        s.onload = () => resolve(paths[lib]);\n        s.onerror = () => reject(`Error loading script: ${paths[lib]}`);\n        document.getElementsByTagName(\"head\")[0].appendChild(s);\n      });\n    }\n\n    function showError(err) {\n      outputDiv.innerHTML = `<div class=\"error\" style=\"color:red;\">${err}</div>`;\n      throw err;\n    }\n\n    function displayChart(vegaEmbed) {\n      vegaEmbed(outputDiv, spec, embedOpt)\n        .catch(err => showError(`Javascript Error: ${err.message}<br>This usually means there's a typo in your chart specification. See the javascript console for the full traceback.`));\n    }\n\n    if(typeof define === \"function\" && define.amd) {\n      requirejs.config({paths});\n      require([\"vega-embed\"], displayChart, err => showError(`Error loading script: ${err.message}`));\n    } else if (typeof vegaEmbed === \"function\") {\n      displayChart(vegaEmbed);\n    } else {\n      loadScript(\"vega\")\n        .then(() => loadScript(\"vega-lite\"))\n        .then(() => loadScript(\"vega-embed\"))\n        .catch(showError)\n        .then(() => displayChart(vegaEmbed));\n    }\n  })({\"config\": {\"view\": {\"continuousWidth\": 400, \"continuousHeight\": 300}}, \"hconcat\": [{\"layer\": [{\"data\": {\"url\": \"https://vega.github.io/vega-datasets/data/world-110m.json\", \"format\": {\"feature\": \"countries\", \"type\": \"topojson\"}}, \"mark\": {\"type\": \"geoshape\", \"fill\": \"#666666\", \"stroke\": \"white\"}, \"height\": 540, \"projection\": {\"type\": \"equirectangular\"}, \"width\": 900}, {\"data\": {\"name\": \"data-82ce60980c309d76bdc1e4f823a51723\"}, \"mark\": {\"type\": \"circle\", \"color\": \"steelblue\", \"size\": 10}, \"encoding\": {\"latitude\": {\"field\": \"latitude\", \"type\": \"quantitative\"}, \"longitude\": {\"field\": \"longitude\", \"type\": \"quantitative\"}, \"tooltip\": [{\"type\": \"temporal\", \"field\": \"time_position\"}]}}]}, {\"layer\": [{\"data\": {\"url\": \"https://vega.github.io/vega-datasets/data/us-10m.json\", \"format\": {\"feature\": \"states\", \"type\": \"topojson\"}}, \"mark\": {\"type\": \"geoshape\", \"fill\": \"lightgray\", \"stroke\": \"white\"}, \"height\": 400, \"projection\": {\"type\": \"albersUsa\"}, \"title\": \"US State Capitols\", \"width\": 650}, {\"data\": {\"name\": \"data-82ce60980c309d76bdc1e4f823a51723\"}, \"mark\": {\"type\": \"circle\", \"color\": \"steelblue\", \"size\": 10}, \"encoding\": {\"latitude\": {\"field\": \"latitude\", \"type\": \"quantitative\"}, \"longitude\": {\"field\": \"longitude\", \"type\": \"quantitative\"}, \"tooltip\": [{\"type\": \"temporal\", \"field\": \"time_position\"}]}}]}], \"$schema\": \"https://vega.github.io/schema/vega-lite/v4.0.2.json\", \"datasets\": {\"data-82ce60980c309d76bdc1e4f823a51723\": [{\"time_position\": \"2020-02-23T20:51:19+00:00\", \"latitude\": 34.0636, \"longitude\": -118.2046}, {\"time_position\": \"2020-02-23T21:01:28+00:00\", \"latitude\": 34.7757, \"longitude\": -116.9742}, {\"time_position\": \"2020-02-23T20:46:59+00:00\", \"latitude\": 33.8495, \"longitude\": -118.6041}, {\"time_position\": \"2020-02-23T20:57:59+00:00\", \"latitude\": 34.5153, \"longitude\": -117.4162}, {\"time_position\": \"2020-02-23T20:48:59+00:00\", \"latitude\": 33.9295, \"longitude\": -118.4396}, {\"time_position\": \"2020-02-23T20:46:20+00:00\", \"latitude\": 33.8868, \"longitude\": -118.6424}, {\"time_position\": \"2020-02-23T20:44:58+00:00\", \"latitude\": 33.9355, \"longitude\": -118.558}, {\"time_position\": \"2020-02-23T21:01:58+00:00\", \"latitude\": 34.8125, \"longitude\": -116.9114}, {\"time_position\": \"2020-02-23T20:56:09+00:00\", \"latitude\": 34.3817, \"longitude\": -117.6382}, {\"time_position\": \"2020-02-23T20:44:09+00:00\", \"latitude\": 33.9411, \"longitude\": -118.4918}, {\"time_position\": \"2020-02-23T20:57:29+00:00\", \"latitude\": 34.4796, \"longitude\": -117.4761}, {\"time_position\": \"2020-02-23T20:55:39+00:00\", \"latitude\": 34.3473, \"longitude\": -117.6974}, {\"time_position\": \"2020-02-23T20:47:59+00:00\", \"latitude\": 33.8823, \"longitude\": -118.5208}, {\"time_position\": \"2020-02-23T20:54:19+00:00\", \"latitude\": 34.2562, \"longitude\": -117.8603}, {\"time_position\": \"2020-02-23T22:17:59+00:00\", \"latitude\": 40.7319, \"longitude\": -106.3844}, {\"time_position\": \"2020-02-23T20:49:59+00:00\", \"latitude\": 33.9838, \"longitude\": -118.3438}, {\"time_position\": \"2020-02-23T20:52:59+00:00\", \"latitude\": 34.1682, \"longitude\": -118.0177}, {\"time_position\": \"2020-02-23T20:52:29+00:00\", \"latitude\": 34.1363, \"longitude\": -118.0756}, {\"time_position\": \"2020-02-23T20:43:09+00:00\", \"latitude\": 33.9474, \"longitude\": -118.4291}, {\"time_position\": \"2020-02-23T21:12:10+00:00\", \"latitude\": 35.6952, \"longitude\": -115.693}, {\"time_position\": \"2020-02-23T22:58:59+00:00\", \"latitude\": 43.8883, \"longitude\": -99.5447}, {\"time_position\": \"2020-02-23T22:59:36+00:00\", \"latitude\": 43.9393, \"longitude\": -99.4369}, {\"time_position\": \"2020-02-23T21:17:40+00:00\", \"latitude\": 36.1646, \"longitude\": -115.0088}, {\"time_position\": \"2020-02-23T21:37:19+00:00\", \"latitude\": 37.625, \"longitude\": -112.3006}, {\"time_position\": \"2020-02-23T23:20:03+00:00\", \"latitude\": 45.5347, \"longitude\": -95.7308}, {\"time_position\": \"2020-02-23T22:26:59+00:00\", \"latitude\": 41.3534, \"longitude\": -104.8682}, {\"time_position\": \"2020-02-23T23:28:00+00:00\", \"latitude\": 46.1063, \"longitude\": -94.1968}, {\"time_position\": \"2020-02-23T21:20:49+00:00\", \"latitude\": 36.4042, \"longitude\": -114.5789}, {\"time_position\": \"2020-02-23T21:09:00+00:00\", \"latitude\": 35.4168, \"longitude\": -116.0688}, {\"time_position\": \"2020-02-23T21:32:59+00:00\", \"latitude\": 37.3067, \"longitude\": -112.9088}, {\"time_position\": \"2020-02-23T21:37:19+00:00\", \"latitude\": 37.625, \"longitude\": -112.3006}, {\"time_position\": \"2020-02-23T23:20:03+00:00\", \"latitude\": 45.5347, \"longitude\": -95.7308}, {\"time_position\": \"2020-02-23T23:28:00+00:00\", \"latitude\": 46.1063, \"longitude\": -94.1968}, {\"time_position\": \"2020-02-23T22:29:00+00:00\", \"latitude\": 41.4909, \"longitude\": -104.5217}, {\"time_position\": \"2020-02-23T21:37:19+00:00\", \"latitude\": 37.625, \"longitude\": -112.3006}, {\"time_position\": \"2020-02-23T23:19:56+00:00\", \"latitude\": 45.5255, \"longitude\": -95.7549}, {\"time_position\": \"2020-02-23T21:08:00+00:00\", \"latitude\": 35.3291, \"longitude\": -116.1861}, {\"time_position\": \"2020-02-23T23:27:59+00:00\", \"latitude\": 46.1057, \"longitude\": -94.1986}, {\"time_position\": \"2020-02-23T23:28:00+00:00\", \"latitude\": 46.1063, \"longitude\": -94.1968}, {\"time_position\": \"2020-02-23T21:33:28+00:00\", \"latitude\": 37.3415, \"longitude\": -112.8428}, {\"time_position\": \"2020-02-23T21:33:28+00:00\", \"latitude\": 37.3415, \"longitude\": -112.8428}, {\"time_position\": \"2020-02-23T22:59:36+00:00\", \"latitude\": 43.9393, \"longitude\": -99.4369}, {\"time_position\": \"2020-02-23T22:59:36+00:00\", \"latitude\": 43.9393, \"longitude\": -99.4369}, {\"time_position\": \"2020-02-23T23:28:00+00:00\", \"latitude\": 46.1063, \"longitude\": -94.1968}, {\"time_position\": \"2020-02-23T23:28:00+00:00\", \"latitude\": 46.1063, \"longitude\": -94.1968}, {\"time_position\": \"2020-02-23T23:20:03+00:00\", \"latitude\": 45.5347, \"longitude\": -95.7308}, {\"time_position\": \"2020-02-23T21:18:50+00:00\", \"latitude\": 36.253, \"longitude\": -114.8506}, {\"time_position\": \"2020-02-23T23:20:03+00:00\", \"latitude\": 45.5347, \"longitude\": -95.7308}, {\"time_position\": \"2020-02-23T21:13:19+00:00\", \"latitude\": 35.797, \"longitude\": -115.5522}, {\"time_position\": \"2020-02-23T21:14:29+00:00\", \"latitude\": 35.899, \"longitude\": -115.4111}, {\"time_position\": \"2020-02-23T21:37:19+00:00\", \"latitude\": 37.625, \"longitude\": -112.3006}, {\"time_position\": \"2020-02-23T22:21:09+00:00\", \"latitude\": 40.9526, \"longitude\": -105.8546}, {\"time_position\": \"2020-02-23T21:25:19+00:00\", \"latitude\": 36.744, \"longitude\": -113.9598}, {\"time_position\": \"2020-02-23T22:59:36+00:00\", \"latitude\": 43.9393, \"longitude\": -99.4369}, {\"time_position\": \"2020-02-23T21:29:34+00:00\", \"latitude\": 37.0589, \"longitude\": -113.3756}, {\"time_position\": \"2020-02-23T23:28:00+00:00\", \"latitude\": 46.1063, \"longitude\": -94.1968}, {\"time_position\": \"2020-02-23T21:33:28+00:00\", \"latitude\": 37.3415, \"longitude\": -112.8428}, {\"time_position\": \"2020-02-23T22:59:36+00:00\", \"latitude\": 43.9393, \"longitude\": -99.4369}, {\"time_position\": \"2020-02-23T21:28:44+00:00\", \"latitude\": 36.9968, \"longitude\": -113.4916}, {\"time_position\": \"2020-02-23T22:26:09+00:00\", \"latitude\": 41.2961, \"longitude\": -105.0112}, {\"time_position\": \"2020-02-23T22:22:59+00:00\", \"latitude\": 41.0791, \"longitude\": -105.5468}, {\"time_position\": \"2020-02-23T21:24:10+00:00\", \"latitude\": 36.6566, \"longitude\": -114.12}, {\"time_position\": \"2020-02-23T23:28:00+00:00\", \"latitude\": 46.1063, \"longitude\": -94.1968}, {\"time_position\": \"2020-02-23T23:20:03+00:00\", \"latitude\": 45.5347, \"longitude\": -95.7308}, {\"time_position\": \"2020-02-23T23:26:49+00:00\", \"latitude\": 46.0232, \"longitude\": -94.4255}, {\"time_position\": \"2020-02-23T22:59:36+00:00\", \"latitude\": 43.9393, \"longitude\": -99.4369}, {\"time_position\": \"2020-02-23T21:36:56+00:00\", \"latitude\": 37.596, \"longitude\": -112.355}, {\"time_position\": \"2020-02-23T22:23:59+00:00\", \"latitude\": 41.1484, \"longitude\": -105.3772}, {\"time_position\": \"2020-02-23T21:37:19+00:00\", \"latitude\": 37.625, \"longitude\": -112.3006}, {\"time_position\": \"2020-02-23T22:25:19+00:00\", \"latitude\": 41.2396, \"longitude\": -105.1515}, {\"time_position\": \"2020-02-23T21:26:59+00:00\", \"latitude\": 36.8677, \"longitude\": -113.7313}, {\"time_position\": \"2020-02-23T23:28:00+00:00\", \"latitude\": 46.1063, \"longitude\": -94.1968}, {\"time_position\": \"2020-02-23T21:23:00+00:00\", \"latitude\": 36.5691, \"longitude\": -114.2797}, {\"time_position\": \"2020-02-23T23:20:03+00:00\", \"latitude\": 45.5347, \"longitude\": -95.7308}, {\"time_position\": \"2020-02-23T21:21:09+00:00\", \"latitude\": 36.4293, \"longitude\": -114.5335}, {\"time_position\": \"2020-02-23T21:37:19+00:00\", \"latitude\": 37.625, \"longitude\": -112.3006}, {\"time_position\": \"2020-02-23T21:28:39+00:00\", \"latitude\": 36.9911, \"longitude\": -113.5024}, {\"time_position\": \"2020-02-23T22:22:19+00:00\", \"latitude\": 41.0337, \"longitude\": -105.6577}, {\"time_position\": \"2020-02-23T21:22:20+00:00\", \"latitude\": 36.5179, \"longitude\": -114.3728}, {\"time_position\": \"2020-02-23T22:27:59+00:00\", \"latitude\": 41.4217, \"longitude\": -104.6965}, {\"time_position\": \"2020-02-23T22:30:10+00:00\", \"latitude\": 41.568, \"longitude\": -104.3254}, {\"time_position\": \"2020-02-23T22:30:10+00:00\", \"latitude\": 41.568, \"longitude\": -104.3254}, {\"time_position\": \"2020-02-23T21:32:09+00:00\", \"latitude\": 37.2457, \"longitude\": -113.0243}, {\"time_position\": \"2020-02-23T22:30:10+00:00\", \"latitude\": 41.568, \"longitude\": -104.3254}, {\"time_position\": \"2020-02-23T22:30:10+00:00\", \"latitude\": 41.568, \"longitude\": -104.3254}, {\"time_position\": \"2020-02-23T21:29:34+00:00\", \"latitude\": 37.0589, \"longitude\": -113.3756}, {\"time_position\": \"2020-02-23T21:25:58+00:00\", \"latitude\": 36.7926, \"longitude\": -113.8702}, {\"time_position\": \"2020-02-23T22:30:10+00:00\", \"latitude\": 41.568, \"longitude\": -104.3254}, {\"time_position\": \"2020-02-23T22:30:10+00:00\", \"latitude\": 41.568, \"longitude\": -104.3254}, {\"time_position\": \"2020-02-23T22:19:15+00:00\", \"latitude\": 40.8209, \"longitude\": -106.1718}, {\"time_position\": \"2020-02-23T22:20:18+00:00\", \"latitude\": 40.8943, \"longitude\": -105.9954}]}}, {\"mode\": \"vega-lite\"});\n</script>",
      "text/plain": "alt.HConcatChart(...)"
     },
     "execution_count": 60,
     "metadata": {},
     "output_type": "execute_result"
    }
   ],
   "source": [
    "\n",
    "airports = data.airports()\n",
    "states = alt.topo_feature(data.us_10m.url, feature='states')\n",
    "\n",
    "source = alt.topo_feature(data.world_110m.url, 'countries')\n",
    "\n",
    "# US states background\n",
    "base = alt.Chart(source).mark_geoshape(\n",
    "    fill='#666666',\n",
    "    stroke='white'\n",
    ").properties(\n",
    "    width=900,\n",
    "    height=540\n",
    ").project('equirectangular')\n",
    "\n",
    "states = alt.topo_feature(data.us_10m.url, 'states')\n",
    "\n",
    "background = alt.Chart(states).mark_geoshape(\n",
    "    fill='lightgray',\n",
    "    stroke='white'\n",
    ").properties(\n",
    "    title='US State Capitols',\n",
    "    width=650,\n",
    "    height=400\n",
    ").project('albersUsa')\n",
    "\n",
    "# airport positions on background\n",
    "points = alt.Chart(coords).mark_circle(\n",
    "    size=10,\n",
    "    color='steelblue'\n",
    ").encode(\n",
    "    longitude='longitude:Q',\n",
    "    latitude='latitude:Q',\n",
    "    tooltip=['time_position']\n",
    ")\n",
    "\n",
    "base + points | background + points"
   ]
  }
 ]
}