{
 "cells": [
  {
   "source": [
    "import os\n",
    "\n",
    "GOOGLE_APPLICATION_CREDENTIALS=\"./user-gcp-sa.json\"\n",
    "os.environ['GOOGLE_APPLICATION_CREDENTIALS'] = GOOGLE_APPLICATION_CREDENTIALS"
   ],
   "cell_type": "code",
   "outputs": [],
   "metadata": {},
   "execution_count": 17
  },
  {
   "source": [
    "#!pip3 install -r requirements.txt"
   ],
   "cell_type": "code",
   "outputs": [],
   "metadata": {},
   "execution_count": 18
  },
  {
   "source": [
    "import kfp\n",
    "client = kfp.Client(host='4709991555f6b0ae-dot-us-central1.notebooks.googleusercontent.com')"
   ],
   "cell_type": "code",
   "outputs": [],
   "metadata": {},
   "execution_count": 19
  },
  {
   "cell_type": "markdown",
   "metadata": {},
   "outputs": [],
   "source": [
    "# AutoML Serverless ML (Taxi) on KFP"
   ]
  },
  {
   "cell_type": "markdown",
   "metadata": {},
   "outputs": [],
   "source": [
    "#TODO: set GCS location to experiment run\n",
    "#TODO: set num passengers out of categorical\n",
    "TODO: run on unsampled datset\n",
    "TODO: set split column to use fingerprint\n",
    "TODO: Difference between table and dataset?\n",
    "TODO: try using a cleanup task with boolean in testing mode\n",
    "TODO: does generatinge new stats do anything?\n",
    "TODO: How to add name to condition\n",
    "TODO: Existing dataset as '' vs None?\n",
    "TODO: good documentation on how to trigger code after conditional loop if the conditional doesn't run, we working on more traditional code logic?\n",
    "TODO: in general, make clear what steps have inputs / outputs when or when they're not executed? get confusing to translate between argo and general python, None, etc\n",
    "TODO: AUtoML, wanted to make more modular, had to refactor becuase you need to supply target column path, not name, couldnt' do my shortcut where i skipped dataset creation, ideally you only know a priori dataset, and then column names, not full pahts?\n",
    "(might be more an issue with the op), also seems easies with new tables API?\n",
    "TODO: AutoML Tables, why is it in core when not supported?\n",
    "TODO: operand, couldn't compare with None so had to go to emtpy string\n",
    "AttributeError: 'NoneType' object has no attribute 'id' (happens when client not initiated or stale?)\n",
    "==None but not is None is supported\n",
    "\n",
    "Wanted to do some logic on dataset_create_id, but it has to basically be reference as input to another step (not condition) or it will only be an artifact, not a paramter?\n",
    "also, when i provide a paramater as teh input for another step, the variable name gets replaced in the UI as the paramater id, not the input name?\n",
    "\n",
    "\n",
    "Ultimatey understanding Argo helped a lot\n",
    "exit handler variations: https://argoproj.github.io/docs/argo/examples/README.html#exit-handlers\n",
    "\n",
    "https://github.com/sebinsua/k8s-argo-parallel-aggregate-workflow/blob/master/parallel-aggregate-workflow.yml\n",
    "https://github.com/argoproj/argo/issues/934\n",
    "\n",
    "how to programtically delete a model that is training?\n",
    "\n",
    "need for really basic python params, like LIMIT or adding to a query\n",
    "\n",
    "bigquery op needs to output the temporary table? so i can suck it into AUtoML tables?\n",
    "\n",
    "this is ok though?\n",
    "gs://{{inputs.parameters.gcs_bucket}}/{{inputs.parameters.gcs_temp_directory}}/bq_taxi_output-*.csv\n",
    "output_gcs_path='gs://{}/{}/bq_taxi_output-*.csv'.format(gcs_bucket, gcs_temp_directory)\n",
    "\n",
    "why do outputs not put out more in general? i.e. BQ one shows me all the files, as well as the fuzzy match?\n",
    "\n"
   ]
  },
  {
   "source": [
    "# Configuration\n",
    "\n",
    "PROJECT_ID = 'dhodun1'\n",
    "COMPUTE_REGION = 'us-central1' # Currently us-central1 is only region\n",
    "BUCKET = 'dhodun1-central1'\n",
    "\n",
    "# Raw dataset, not cleaned\n",
    "QUERY = '''\n",
    "SELECT\n",
    "  (tolls_amount + fare_amount) AS fare_amount,\n",
    "  pickup_longitude AS pickuplon,\n",
    "  pickup_latitude AS pickuplat,\n",
    "  dropoff_longitude AS dropofflon,\n",
    "  dropoff_latitude AS dropofflat,\n",
    "  passenger_count*1.0 AS passengers\n",
    "FROM `nyc-tlc.yellow.trips`\n",
    "WHERE MOD(ABS(FARM_FINGERPRINT(CAST(pickup_datetime AS STRING))), 100000) = 1\n",
    "'''\n",
    ""
   ],
   "cell_type": "code",
   "outputs": [],
   "metadata": {},
   "execution_count": 20
  },
  {
   "cell_type": "markdown",
   "execution_count": null,
   "metadata": {},
   "outputs": [],
   "source": [
    "## Create Op to change 'passengers' from categorical to numeric\n",
    "Should be fixed with *1.0 in BQ Query, but related to this BQ CSV export bug: https://b.corp.google.com/issues/143356550"
   ]
  },
  {
   "source": [
    "# Test on training model, can I delete it?\n",
    "from google.cloud import automl_v1beta1\n",
    "client = automl_v1beta1.TablesClient()\n",
    "\n",
    "client.get_model_evaluation(model_evaluation_name)\n",
    "\n",
    "# models = [s for s in client.list_models(project=PROJECT_ID)]\n",
    "# for model in models:\n",
    "#     # print(model.deployment_state)\n",
    "#     print(model.dataset_id)\n",
    ""
   ],
   "cell_type": "code",
   "outputs": [
    {
     "output_type": "error",
     "ename": "NameError",
     "evalue": "name 'model_evaluation_name' is not defined",
     "traceback": [
      "\u001b[0;31m---------------------------------------------------------------------------\u001b[0m",
      "\u001b[0;31mNameError\u001b[0m                                 Traceback (most recent call last)",
      "\u001b[0;32m<ipython-input-21-39a311bb09cb>\u001b[0m in \u001b[0;36m<module>\u001b[0;34m\u001b[0m\n\u001b[1;32m      3\u001b[0m \u001b[0mclient\u001b[0m \u001b[0;34m=\u001b[0m \u001b[0mautoml_v1beta1\u001b[0m\u001b[0;34m.\u001b[0m\u001b[0mTablesClient\u001b[0m\u001b[0;34m(\u001b[0m\u001b[0;34m)\u001b[0m\u001b[0;34m\u001b[0m\u001b[0;34m\u001b[0m\u001b[0m\n\u001b[1;32m      4\u001b[0m \u001b[0;34m\u001b[0m\u001b[0m\n\u001b[0;32m----> 5\u001b[0;31m \u001b[0mclient\u001b[0m\u001b[0;34m.\u001b[0m\u001b[0mget_model_evaluation\u001b[0m\u001b[0;34m(\u001b[0m\u001b[0mmodel_evaluation_name\u001b[0m\u001b[0;34m)\u001b[0m\u001b[0;34m\u001b[0m\u001b[0;34m\u001b[0m\u001b[0m\n\u001b[0m\u001b[1;32m      6\u001b[0m \u001b[0;34m\u001b[0m\u001b[0m\n\u001b[1;32m      7\u001b[0m \u001b[0;31m# models = [s for s in client.list_models(project=PROJECT_ID)]\u001b[0m\u001b[0;34m\u001b[0m\u001b[0;34m\u001b[0m\u001b[0;34m\u001b[0m\u001b[0m\n",
      "\u001b[0;31mNameError\u001b[0m: name 'model_evaluation_name' is not defined"
     ]
    }
   ],
   "metadata": {},
   "execution_count": 21
  },
  {
   "source": [
    "from typing import NamedTuple\n",
    "from kfp import dsl\n",
    "from kfp import components\n",
    "\n",
    "def set_automl_tables_column_type(\n",
    "    dataset_path: str,\n",
    "    column_display_name: str,\n",
    "    type_code: str,    \n",
    "):\n",
    "    # Updates AutuML Column with new column type, does trigger a new column statistics job? how do we check?\n",
    "    import sys\n",
    "    import subprocess\n",
    "    subprocess.run([sys.executable, '-m', 'pip', 'install', 'google-cloud-automl==0.9.0', '--quiet', '--no-warn-script-location'], env={'PIP_DISABLE_PIP_VERSION_CHECK': '1'}, check=True)\n",
    "    \n",
    "    from google.cloud import automl_v1beta1\n",
    "    client = automl_v1beta1.TablesClient()\n",
    "    \n",
    "    dataset = client.get_dataset(dataset_name=dataset_path)\n",
    "    \n",
    "    column_specs_response = client.list_column_specs(dataset=dataset)\n",
    "    column_specs = list(column_specs_response)\n",
    "    \n",
    "    for column in column_specs:\n",
    "        if column.display_name == column_display_name:\n",
    "            # This kicks off a new statistics job... how to check to see if it's done? Took ~ 1 minute this time\n",
    "            response = client.update_column_spec(column_spec_name=column.name, dataset=dataset, type_code=type_code)\n",
    "            print('Updated column: \"{}\" to type code {}. Generating new statistics now...'.format(column_display_name, type_code))\n",
    "\n",
    "set_automl_tables_column_type_op = components.func_to_container_op(set_automl_tables_column_type, base_image='python:3.7')"
   ],
   "cell_type": "code",
   "outputs": [],
   "metadata": {},
   "execution_count": 22
  },
  {
   "source": [
    "# AutoML Tables components\n",
    "! git clone https://github.com/kubeflow/pipelines.git\n",
    ""
   ],
   "cell_type": "code",
   "outputs": [
    {
     "output_type": "stream",
     "name": "stdout",
     "text": "fatal: destination path 'pipelines' already exists and is not an empty directory.\n"
    }
   ],
   "metadata": {},
   "execution_count": 23
  },
  {
   "source": [
    "from kfp import components\n",
    "\n",
    "component_store = components.ComponentStore(local_search_paths=['./pipelines/components'])"
   ],
   "cell_type": "code",
   "outputs": [],
   "metadata": {},
   "execution_count": 24
  },
  {
   "source": [
    "automl_create_dataset_for_tables_op = component_store.load_component('gcp/automl/create_dataset_for_tables')\n",
    "automl_import_data_from_bigquery_op = component_store.load_component('gcp/automl/import_data_from_bigquery')\n",
    "automl_import_data_from_gcs_op = component_store.load_component('gcp/automl/import_data_from_gcs')\n",
    "automl_create_model_for_tables_op = component_store.load_component('gcp/automl/create_model_for_tables')\n",
    "prediction_service_batch_predict_op = component_store.load_component('gcp/automl/prediction_service_batch_predict')\n",
    "automl_split_dataset_table_column_names_op = component_store.load_component('gcp/automl/split_dataset_table_column_names')\n",
    "\n",
    "bigquery_query_op = component_store.load_component('gcp/bigquery/query')\n",
    "#automl_create_dataset_for_tables_op = comp.load_component_from_url('https://raw.githubusercontent.com/kubeflow/pipelines/b3179d86b239a08bf4884b50dbf3a9151da96d66/components/gcp/automl/create_dataset_for_tables/component.yaml')"
   ],
   "cell_type": "code",
   "outputs": [],
   "metadata": {},
   "execution_count": 25
  },
  {
   "source": [
    "#automl_create_dataset_for_tables_op(PROJECT_ID, COMPUTE_REGION, 'taxi_data',)"
   ],
   "cell_type": "code",
   "outputs": [],
   "metadata": {},
   "execution_count": 26
  },
  {
   "source": [
    "set_automl_tables_column_type(dataset_path=dataset_path, column_display_name='passengers', type_code='FLOAT64')"
   ],
   "cell_type": "code",
   "outputs": [
    {
     "output_type": "error",
     "ename": "NameError",
     "evalue": "name 'dataset_path' is not defined",
     "traceback": [
      "\u001b[0;31m---------------------------------------------------------------------------\u001b[0m",
      "\u001b[0;31mNameError\u001b[0m                                 Traceback (most recent call last)",
      "\u001b[0;32m<ipython-input-27-5c660a7fc874>\u001b[0m in \u001b[0;36m<module>\u001b[0;34m\u001b[0m\n\u001b[0;32m----> 1\u001b[0;31m \u001b[0mset_automl_tables_column_type\u001b[0m\u001b[0;34m(\u001b[0m\u001b[0mdataset_path\u001b[0m\u001b[0;34m=\u001b[0m\u001b[0mdataset_path\u001b[0m\u001b[0;34m,\u001b[0m \u001b[0mcolumn_display_name\u001b[0m\u001b[0;34m=\u001b[0m\u001b[0;34m'passengers'\u001b[0m\u001b[0;34m,\u001b[0m \u001b[0mtype_code\u001b[0m\u001b[0;34m=\u001b[0m\u001b[0;34m'FLOAT64'\u001b[0m\u001b[0;34m)\u001b[0m\u001b[0;34m\u001b[0m\u001b[0;34m\u001b[0m\u001b[0m\n\u001b[0m",
      "\u001b[0;31mNameError\u001b[0m: name 'dataset_path' is not defined"
     ]
    }
   ],
   "metadata": {},
   "execution_count": 27
  },
  {
   "source": [
    "class ObjectDict(dict):\n",
    "  def __getattr__(self, name):\n",
    "    if name in self:\n",
    "      return self[name]\n",
    "    else:\n",
    "      raise AttributeError(\"No such attribute: \" + name)\n",
    "\n",
    "# Define the pipeline\n",
    "\n",
    "import kfp\n",
    "from kfp import dsl\n",
    "\n",
    "def serverless_automl_taxi(\n",
    "    gcp_project_id: str,\n",
    "    gcp_region: str,\n",
    "    query: str,\n",
    "    gcs_bucket: str,\n",
    "    gcs_temp_directory: str = 'ml-taxi/{}'.format(dsl.RUN_ID_PLACEHOLDER),\n",
    "    temp_table_name: str = '',\n",
    "    dataset_display_name: str = 'taxi_data',\n",
    "    dataset_location: str = 'US',\n",
    "    existing_dataset_path: str = '',\n",
    "    existing_dataset_id: str = '',\n",
    "    target_column_name: str = 'fare_amount',\n",
    "    model_display_name: str = 'taxi_data_model',\n",
    "    train_budget_milli_node_hours: 'Integer' = 1000,\n",
    "):\n",
    "    \"\"\"Pipeline to train on Taxi data\"\"\"\n",
    "\n",
    "    new_dataset = True\n",
    "\n",
    "    output_gcs_path='gs://{}/{}/bq_taxi_output-*.csv'.format(gcs_bucket, gcs_temp_directory)\n",
    "\n",
    "    if new_dataset:\n",
    "\n",
    "        # Create dataset\n",
    "        create_dataset_task = automl_create_dataset_for_tables_op(\n",
    "            gcp_project_id=gcp_project_id,\n",
    "            gcp_region=gcp_region,\n",
    "            display_name=dataset_display_name,\n",
    "        )\n",
    "        '''\n",
    "        # Query to clean dataset and dump to GCS\n",
    "        bigquery_export_task = bigquery_query_op(\n",
    "            query=query,\n",
    "            project_id=gcp_project_id,\n",
    "            output_gcs_path=output_gcs_path,\n",
    "            dataset_location=dataset_location,\n",
    "        )'''\n",
    "\n",
    "        # Query to clean dataset and dump to GCS\n",
    "        bigquery_export_task = bigquery_query_op(\n",
    "            query=query,\n",
    "            project_id=gcp_project_id,\n",
    "            dataset_location=dataset_location,\n",
    "            table_id=temp_table_name,\n",
    "        )\n",
    "        '''\n",
    "        # Import data from GCS automl_import_data_from_gcs_op\n",
    "        import_data_task = automl_import_data_from_gcs_op(\n",
    "            dataset_path=create_dataset_task.outputs['dataset_path'],\n",
    "            input_uris=[output_gcs_path],\n",
    "        ).after(bigquery_export_task)\n",
    "        '''\n",
    "\n",
    "        # Import data from BQ automl_import_data_from_gcs_op\n",
    "        import_data_task = automl_import_data_from_bigquery_op(\n",
    "            dataset_path=create_dataset_task.outputs['dataset_path'],\n",
    "            input_uri=temp_table_name,\n",
    "        ).after(bigquery_export_task)\n",
    "\n",
    "        # Change 'passengers' column from categorical to numerical\n",
    "        # Should be fixed with *1.0 in BQ Query, but related to this BQ CSV export bug: https://b.corp.google.com/issues/143356550\n",
    "        set_passengers_numeric_task = set_automl_tables_column_type_op(\n",
    "            dataset_path=import_data_task.outputs['dataset_path'],\n",
    "            column_display_name='passengers',\n",
    "            type_code='FLOAT64',\n",
    "        )\n",
    "    else:\n",
    "        # Create the objects so that the rest of the pipeline will run\n",
    "        create_dataset_task = ObjectDict({\n",
    "            'outputs': {\n",
    "                'dataset_id': existing_dataset_id\n",
    "            }\n",
    "        })\n",
    "        import_data_task = ObjectDict({\n",
    "            'outputs': {\n",
    "                'dataset_path': existing_dataset_path\n",
    "            }\n",
    "        })\n",
    "\n",
    "\n",
    "    # Prepare column schemas\n",
    "    split_column_specs_task = automl_split_dataset_table_column_names_op(\n",
    "        dataset_path=import_data_task.outputs['dataset_path'],\n",
    "        table_index=0,\n",
    "        target_column_name=target_column_name,        \n",
    "    )\n",
    "    if new_dataset:\n",
    "        split_column_specs_task.after(set_passengers_numeric_task)\n",
    "\n",
    "    # Train a model\n",
    "    create_model_task = automl_create_model_for_tables_op(\n",
    "        gcp_project_id=gcp_project_id,\n",
    "        gcp_region=gcp_region,\n",
    "        display_name=model_display_name,\n",
    "        dataset_id=create_dataset_task.outputs['dataset_id'],\n",
    "        target_column_path=split_column_specs_task.outputs['target_column_path'],\n",
    "        # input_feature_column_paths=None, # All non-target columns will be used if None is passed\n",
    "        # input_feature_column_paths=split_column_specs_task.outputs['feature_column_paths'],\n",
    "        optimization_objective='MINIMIZE_RMSE',\n",
    "        train_budget_milli_node_hours=train_budget_milli_node_hours,\n",
    "    )\n",
    "    \n",
    "    from kfp.gcp import use_gcp_secret\n",
    "    kfp.dsl.get_pipeline_conf().add_op_transformer(use_gcp_secret('user-gcp-sa'))"
   ],
   "cell_type": "code",
   "outputs": [],
   "metadata": {},
   "execution_count": 28
  },
  {
   "source": [
    "kfp.compiler.Compiler().compile(serverless_automl_taxi, 'pipeline.zip')"
   ],
   "cell_type": "code",
   "outputs": [],
   "metadata": {},
   "execution_count": 29
  },
  {
   "source": [
    "from google.cloud import automl\n",
    "\n",
    "#PROJECT_ID = 'dhodun1'\n",
    "#COMPUTE_REGION = 'us-central1' # Currently us-central1 is only region\n",
    "\n",
    "#location_path = automl.AutoMlClient().location_path(PROJECT_ID, COMPUTE_REGION)\n",
    "client = kfp.Client(host='4709991555f6b0ae-dot-us-central1.notebooks.googleusercontent.com')\n",
    "client.create_run_from_pipeline_func(\n",
    "    serverless_automl_taxi,\n",
    "    arguments=dict(\n",
    "        gcp_project_id=PROJECT_ID,\n",
    "        gcp_region=COMPUTE_REGION,\n",
    "        query=QUERY,\n",
    "        gcs_bucket=BUCKET,\n",
    "        dataset_display_name='taxi_data',\n",
    "        existing_dataset_path='projects/978546835329/locations/us-central1/datasets/TBL9144959265608302592',\n",
    "        existing_dataset_id='TBL9144959265608302592',\n",
    "        temp_table_name='bq://dhodun1.kfp_tmp_dataset.taxi_export'\n",
    "    )\n",
    ")"
   ],
   "cell_type": "code",
   "outputs": [
    {
     "output_type": "error",
     "ename": "ApiException",
     "evalue": "(401)\nReason: Unauthorized\nHTTP response headers: HTTPHeaderDict({'Content-Length': '1452', 'Content-Type': 'text/html; charset=utf-8', 'Date': 'Tue, 03 Dec 2019 01:03:54 GMT', 'X-Content-Type-Options': 'nosniff', 'X-Frame-Options': 'SAMEORIGIN', 'X-Xss-Protection': '0', 'Set-Cookie': 'S=cloud_datalab_tunnel=4enqArZc86dm7BYyGvVwypMUGv2LTIZA; Path=/; Max-Age=3600'})\nHTTP response body: \n<!DOCTYPE html>\n<html lang=en>\n  <meta charset=utf-8>\n  <meta name=viewport content=\"initial-scale=1, minimum-scale=1, width=device-width\">\n  <title>Error 401 (Unauthorized)!!1</title>\n  <style>\n    *{margin:0;padding:0}html,code{font:15px/22px arial,sans-serif}html{background:#fff;color:#222;padding:15px}body{margin:7% auto 0;max-width:390px;min-height:180px;padding:30px 0 15px}* > body{background:url(//www.google.com/images/errors/robot.png) 100% 5px no-repeat;padding-right:205px}p{margin:11px 0 22px;overflow:hidden}ins{color:#777;text-decoration:none}a img{border:0}@media screen and (max-width:772px){body{background:none;margin-top:0;max-width:none;padding-right:0}}#logo{background:url(//www.google.com/images/logos/errorpage/error_logo-150x54.png) no-repeat;margin-left:-5px}@media only screen and (min-resolution:192dpi){#logo{background:url(//www.google.com/images/logos/errorpage/error_logo-150x54-2x.png) no-repeat 0% 0%/100% 100%;-moz-border-image:url(//www.google.com/images/logos/errorpage/error_logo-150x54-2x.png) 0}}@media only screen and (-webkit-min-device-pixel-ratio:2){#logo{background:url(//www.google.com/images/logos/errorpage/error_logo-150x54-2x.png) no-repeat;-webkit-background-size:100% 100%}}#logo{display:inline-block;height:54px;width:150px}\n  </style>\n  <a href=//www.google.com/><span id=logo aria-label=Google></span></a>\n  <p><b>401.</b> <ins>That’s an error.</ins>\n  <p>  <ins>That’s all we know.</ins>\n\n",
     "traceback": [
      "\u001b[0;31m---------------------------------------------------------------------------\u001b[0m",
      "\u001b[0;31mApiException\u001b[0m                              Traceback (most recent call last)",
      "\u001b[0;32m<ipython-input-30-93798a3e742c>\u001b[0m in \u001b[0;36m<module>\u001b[0;34m\u001b[0m\n\u001b[1;32m     16\u001b[0m         \u001b[0mexisting_dataset_path\u001b[0m\u001b[0;34m=\u001b[0m\u001b[0;34m'projects/978546835329/locations/us-central1/datasets/TBL9144959265608302592'\u001b[0m\u001b[0;34m,\u001b[0m\u001b[0;34m\u001b[0m\u001b[0;34m\u001b[0m\u001b[0m\n\u001b[1;32m     17\u001b[0m         \u001b[0mexisting_dataset_id\u001b[0m\u001b[0;34m=\u001b[0m\u001b[0;34m'TBL9144959265608302592'\u001b[0m\u001b[0;34m,\u001b[0m\u001b[0;34m\u001b[0m\u001b[0;34m\u001b[0m\u001b[0m\n\u001b[0;32m---> 18\u001b[0;31m         \u001b[0mtemp_table_name\u001b[0m\u001b[0;34m=\u001b[0m\u001b[0;34m'bq://dhodun1.kfp_tmp_dataset.taxi_export'\u001b[0m\u001b[0;34m\u001b[0m\u001b[0;34m\u001b[0m\u001b[0m\n\u001b[0m\u001b[1;32m     19\u001b[0m     )\n\u001b[1;32m     20\u001b[0m )\n",
      "\u001b[0;32m~/developer/kubeflow-pipeline-examples/automl_kfp/.venv/lib/python3.7/site-packages/kfp/_client.py\u001b[0m in \u001b[0;36mcreate_run_from_pipeline_func\u001b[0;34m(self, pipeline_func, arguments, run_name, experiment_name, pipeline_conf)\u001b[0m\n\u001b[1;32m    351\u001b[0m       \u001b[0;34m(\u001b[0m\u001b[0m_\u001b[0m\u001b[0;34m,\u001b[0m \u001b[0mpipeline_package_path\u001b[0m\u001b[0;34m)\u001b[0m \u001b[0;34m=\u001b[0m \u001b[0mtempfile\u001b[0m\u001b[0;34m.\u001b[0m\u001b[0mmkstemp\u001b[0m\u001b[0;34m(\u001b[0m\u001b[0msuffix\u001b[0m\u001b[0;34m=\u001b[0m\u001b[0;34m'.zip'\u001b[0m\u001b[0;34m)\u001b[0m\u001b[0;34m\u001b[0m\u001b[0;34m\u001b[0m\u001b[0m\n\u001b[1;32m    352\u001b[0m       \u001b[0mcompiler\u001b[0m\u001b[0;34m.\u001b[0m\u001b[0mCompiler\u001b[0m\u001b[0;34m(\u001b[0m\u001b[0;34m)\u001b[0m\u001b[0;34m.\u001b[0m\u001b[0mcompile\u001b[0m\u001b[0;34m(\u001b[0m\u001b[0mpipeline_func\u001b[0m\u001b[0;34m,\u001b[0m \u001b[0mpipeline_package_path\u001b[0m\u001b[0;34m,\u001b[0m \u001b[0mpipeline_conf\u001b[0m\u001b[0;34m=\u001b[0m\u001b[0mpipeline_conf\u001b[0m\u001b[0;34m)\u001b[0m\u001b[0;34m\u001b[0m\u001b[0;34m\u001b[0m\u001b[0m\n\u001b[0;32m--> 353\u001b[0;31m       \u001b[0;32mreturn\u001b[0m \u001b[0mself\u001b[0m\u001b[0;34m.\u001b[0m\u001b[0mcreate_run_from_pipeline_package\u001b[0m\u001b[0;34m(\u001b[0m\u001b[0mpipeline_package_path\u001b[0m\u001b[0;34m,\u001b[0m \u001b[0marguments\u001b[0m\u001b[0;34m,\u001b[0m \u001b[0mrun_name\u001b[0m\u001b[0;34m,\u001b[0m \u001b[0mexperiment_name\u001b[0m\u001b[0;34m)\u001b[0m\u001b[0;34m\u001b[0m\u001b[0;34m\u001b[0m\u001b[0m\n\u001b[0m\u001b[1;32m    354\u001b[0m     \u001b[0;32mfinally\u001b[0m\u001b[0;34m:\u001b[0m\u001b[0;34m\u001b[0m\u001b[0;34m\u001b[0m\u001b[0m\n\u001b[1;32m    355\u001b[0m       \u001b[0mos\u001b[0m\u001b[0;34m.\u001b[0m\u001b[0mremove\u001b[0m\u001b[0;34m(\u001b[0m\u001b[0mpipeline_package_path\u001b[0m\u001b[0;34m)\u001b[0m\u001b[0;34m\u001b[0m\u001b[0;34m\u001b[0m\u001b[0m\n",
      "\u001b[0;32m~/developer/kubeflow-pipeline-examples/automl_kfp/.venv/lib/python3.7/site-packages/kfp/_client.py\u001b[0m in \u001b[0;36mcreate_run_from_pipeline_package\u001b[0;34m(self, pipeline_file, arguments, run_name, experiment_name)\u001b[0m\n\u001b[1;32m    388\u001b[0m     \u001b[0mexperiment_name\u001b[0m \u001b[0;34m=\u001b[0m \u001b[0moverridden_experiment_name\u001b[0m \u001b[0;32mor\u001b[0m \u001b[0;34m'Default'\u001b[0m\u001b[0;34m\u001b[0m\u001b[0;34m\u001b[0m\u001b[0m\n\u001b[1;32m    389\u001b[0m     \u001b[0mrun_name\u001b[0m \u001b[0;34m=\u001b[0m \u001b[0mrun_name\u001b[0m \u001b[0;32mor\u001b[0m \u001b[0mpipeline_name\u001b[0m \u001b[0;34m+\u001b[0m \u001b[0;34m' '\u001b[0m \u001b[0;34m+\u001b[0m \u001b[0mdatetime\u001b[0m\u001b[0;34m.\u001b[0m\u001b[0mnow\u001b[0m\u001b[0;34m(\u001b[0m\u001b[0;34m)\u001b[0m\u001b[0;34m.\u001b[0m\u001b[0mstrftime\u001b[0m\u001b[0;34m(\u001b[0m\u001b[0;34m'%Y-%m-%d %H-%M-%S'\u001b[0m\u001b[0;34m)\u001b[0m\u001b[0;34m\u001b[0m\u001b[0;34m\u001b[0m\u001b[0m\n\u001b[0;32m--> 390\u001b[0;31m     \u001b[0mexperiment\u001b[0m \u001b[0;34m=\u001b[0m \u001b[0mself\u001b[0m\u001b[0;34m.\u001b[0m\u001b[0mcreate_experiment\u001b[0m\u001b[0;34m(\u001b[0m\u001b[0mname\u001b[0m\u001b[0;34m=\u001b[0m\u001b[0mexperiment_name\u001b[0m\u001b[0;34m)\u001b[0m\u001b[0;34m\u001b[0m\u001b[0;34m\u001b[0m\u001b[0m\n\u001b[0m\u001b[1;32m    391\u001b[0m     \u001b[0mrun_info\u001b[0m \u001b[0;34m=\u001b[0m \u001b[0mself\u001b[0m\u001b[0;34m.\u001b[0m\u001b[0mrun_pipeline\u001b[0m\u001b[0;34m(\u001b[0m\u001b[0mexperiment\u001b[0m\u001b[0;34m.\u001b[0m\u001b[0mid\u001b[0m\u001b[0;34m,\u001b[0m \u001b[0mrun_name\u001b[0m\u001b[0;34m,\u001b[0m \u001b[0mpipeline_file\u001b[0m\u001b[0;34m,\u001b[0m \u001b[0marguments\u001b[0m\u001b[0;34m)\u001b[0m\u001b[0;34m\u001b[0m\u001b[0;34m\u001b[0m\u001b[0m\n\u001b[1;32m    392\u001b[0m     \u001b[0;32mreturn\u001b[0m \u001b[0mRunPipelineResult\u001b[0m\u001b[0;34m(\u001b[0m\u001b[0mself\u001b[0m\u001b[0;34m,\u001b[0m \u001b[0mrun_info\u001b[0m\u001b[0;34m)\u001b[0m\u001b[0;34m\u001b[0m\u001b[0;34m\u001b[0m\u001b[0m\n",
      "\u001b[0;32m~/developer/kubeflow-pipeline-examples/automl_kfp/.venv/lib/python3.7/site-packages/kfp/_client.py\u001b[0m in \u001b[0;36mcreate_experiment\u001b[0;34m(self, name, description)\u001b[0m\n\u001b[1;32m    207\u001b[0m       \u001b[0mlogging\u001b[0m\u001b[0;34m.\u001b[0m\u001b[0minfo\u001b[0m\u001b[0;34m(\u001b[0m\u001b[0;34m'Creating experiment {}.'\u001b[0m\u001b[0;34m.\u001b[0m\u001b[0mformat\u001b[0m\u001b[0;34m(\u001b[0m\u001b[0mname\u001b[0m\u001b[0;34m)\u001b[0m\u001b[0;34m)\u001b[0m\u001b[0;34m\u001b[0m\u001b[0;34m\u001b[0m\u001b[0m\n\u001b[1;32m    208\u001b[0m       \u001b[0mexperiment\u001b[0m \u001b[0;34m=\u001b[0m \u001b[0mkfp_server_api\u001b[0m\u001b[0;34m.\u001b[0m\u001b[0mmodels\u001b[0m\u001b[0;34m.\u001b[0m\u001b[0mApiExperiment\u001b[0m\u001b[0;34m(\u001b[0m\u001b[0mname\u001b[0m\u001b[0;34m=\u001b[0m\u001b[0mname\u001b[0m\u001b[0;34m,\u001b[0m \u001b[0mdescription\u001b[0m\u001b[0;34m=\u001b[0m\u001b[0mdescription\u001b[0m\u001b[0;34m)\u001b[0m\u001b[0;34m\u001b[0m\u001b[0;34m\u001b[0m\u001b[0m\n\u001b[0;32m--> 209\u001b[0;31m       \u001b[0mexperiment\u001b[0m \u001b[0;34m=\u001b[0m \u001b[0mself\u001b[0m\u001b[0;34m.\u001b[0m\u001b[0m_experiment_api\u001b[0m\u001b[0;34m.\u001b[0m\u001b[0mcreate_experiment\u001b[0m\u001b[0;34m(\u001b[0m\u001b[0mbody\u001b[0m\u001b[0;34m=\u001b[0m\u001b[0mexperiment\u001b[0m\u001b[0;34m)\u001b[0m\u001b[0;34m\u001b[0m\u001b[0;34m\u001b[0m\u001b[0m\n\u001b[0m\u001b[1;32m    210\u001b[0m \u001b[0;34m\u001b[0m\u001b[0m\n\u001b[1;32m    211\u001b[0m     \u001b[0;32mif\u001b[0m \u001b[0mself\u001b[0m\u001b[0;34m.\u001b[0m\u001b[0m_is_ipython\u001b[0m\u001b[0;34m(\u001b[0m\u001b[0;34m)\u001b[0m\u001b[0;34m:\u001b[0m\u001b[0;34m\u001b[0m\u001b[0;34m\u001b[0m\u001b[0m\n",
      "\u001b[0;32m~/developer/kubeflow-pipeline-examples/automl_kfp/.venv/lib/python3.7/site-packages/kfp_server_api/api/experiment_service_api.py\u001b[0m in \u001b[0;36mcreate_experiment\u001b[0;34m(self, body, **kwargs)\u001b[0m\n\u001b[1;32m     52\u001b[0m             \u001b[0;32mreturn\u001b[0m \u001b[0mself\u001b[0m\u001b[0;34m.\u001b[0m\u001b[0mcreate_experiment_with_http_info\u001b[0m\u001b[0;34m(\u001b[0m\u001b[0mbody\u001b[0m\u001b[0;34m,\u001b[0m \u001b[0;34m**\u001b[0m\u001b[0mkwargs\u001b[0m\u001b[0;34m)\u001b[0m  \u001b[0;31m# noqa: E501\u001b[0m\u001b[0;34m\u001b[0m\u001b[0;34m\u001b[0m\u001b[0m\n\u001b[1;32m     53\u001b[0m         \u001b[0;32melse\u001b[0m\u001b[0;34m:\u001b[0m\u001b[0;34m\u001b[0m\u001b[0;34m\u001b[0m\u001b[0m\n\u001b[0;32m---> 54\u001b[0;31m             \u001b[0;34m(\u001b[0m\u001b[0mdata\u001b[0m\u001b[0;34m)\u001b[0m \u001b[0;34m=\u001b[0m \u001b[0mself\u001b[0m\u001b[0;34m.\u001b[0m\u001b[0mcreate_experiment_with_http_info\u001b[0m\u001b[0;34m(\u001b[0m\u001b[0mbody\u001b[0m\u001b[0;34m,\u001b[0m \u001b[0;34m**\u001b[0m\u001b[0mkwargs\u001b[0m\u001b[0;34m)\u001b[0m  \u001b[0;31m# noqa: E501\u001b[0m\u001b[0;34m\u001b[0m\u001b[0;34m\u001b[0m\u001b[0m\n\u001b[0m\u001b[1;32m     55\u001b[0m             \u001b[0;32mreturn\u001b[0m \u001b[0mdata\u001b[0m\u001b[0;34m\u001b[0m\u001b[0;34m\u001b[0m\u001b[0m\n\u001b[1;32m     56\u001b[0m \u001b[0;34m\u001b[0m\u001b[0m\n",
      "\u001b[0;32m~/developer/kubeflow-pipeline-examples/automl_kfp/.venv/lib/python3.7/site-packages/kfp_server_api/api/experiment_service_api.py\u001b[0m in \u001b[0;36mcreate_experiment_with_http_info\u001b[0;34m(self, body, **kwargs)\u001b[0m\n\u001b[1;32m    129\u001b[0m             \u001b[0m_preload_content\u001b[0m\u001b[0;34m=\u001b[0m\u001b[0mparams\u001b[0m\u001b[0;34m.\u001b[0m\u001b[0mget\u001b[0m\u001b[0;34m(\u001b[0m\u001b[0;34m'_preload_content'\u001b[0m\u001b[0;34m,\u001b[0m \u001b[0;32mTrue\u001b[0m\u001b[0;34m)\u001b[0m\u001b[0;34m,\u001b[0m\u001b[0;34m\u001b[0m\u001b[0;34m\u001b[0m\u001b[0m\n\u001b[1;32m    130\u001b[0m             \u001b[0m_request_timeout\u001b[0m\u001b[0;34m=\u001b[0m\u001b[0mparams\u001b[0m\u001b[0;34m.\u001b[0m\u001b[0mget\u001b[0m\u001b[0;34m(\u001b[0m\u001b[0;34m'_request_timeout'\u001b[0m\u001b[0;34m)\u001b[0m\u001b[0;34m,\u001b[0m\u001b[0;34m\u001b[0m\u001b[0;34m\u001b[0m\u001b[0m\n\u001b[0;32m--> 131\u001b[0;31m             collection_formats=collection_formats)\n\u001b[0m\u001b[1;32m    132\u001b[0m \u001b[0;34m\u001b[0m\u001b[0m\n\u001b[1;32m    133\u001b[0m     \u001b[0;32mdef\u001b[0m \u001b[0mdelete_experiment\u001b[0m\u001b[0;34m(\u001b[0m\u001b[0mself\u001b[0m\u001b[0;34m,\u001b[0m \u001b[0mid\u001b[0m\u001b[0;34m,\u001b[0m \u001b[0;34m**\u001b[0m\u001b[0mkwargs\u001b[0m\u001b[0;34m)\u001b[0m\u001b[0;34m:\u001b[0m  \u001b[0;31m# noqa: E501\u001b[0m\u001b[0;34m\u001b[0m\u001b[0;34m\u001b[0m\u001b[0m\n",
      "\u001b[0;32m~/developer/kubeflow-pipeline-examples/automl_kfp/.venv/lib/python3.7/site-packages/kfp_server_api/api_client.py\u001b[0m in \u001b[0;36mcall_api\u001b[0;34m(self, resource_path, method, path_params, query_params, header_params, body, post_params, files, response_type, auth_settings, async_req, _return_http_data_only, collection_formats, _preload_content, _request_timeout)\u001b[0m\n\u001b[1;32m    328\u001b[0m                                    \u001b[0mresponse_type\u001b[0m\u001b[0;34m,\u001b[0m \u001b[0mauth_settings\u001b[0m\u001b[0;34m,\u001b[0m\u001b[0;34m\u001b[0m\u001b[0;34m\u001b[0m\u001b[0m\n\u001b[1;32m    329\u001b[0m                                    \u001b[0m_return_http_data_only\u001b[0m\u001b[0;34m,\u001b[0m \u001b[0mcollection_formats\u001b[0m\u001b[0;34m,\u001b[0m\u001b[0;34m\u001b[0m\u001b[0;34m\u001b[0m\u001b[0m\n\u001b[0;32m--> 330\u001b[0;31m                                    _preload_content, _request_timeout)\n\u001b[0m\u001b[1;32m    331\u001b[0m         \u001b[0;32melse\u001b[0m\u001b[0;34m:\u001b[0m\u001b[0;34m\u001b[0m\u001b[0;34m\u001b[0m\u001b[0m\n\u001b[1;32m    332\u001b[0m             thread = self.pool.apply_async(self.__call_api, (resource_path,\n",
      "\u001b[0;32m~/developer/kubeflow-pipeline-examples/automl_kfp/.venv/lib/python3.7/site-packages/kfp_server_api/api_client.py\u001b[0m in \u001b[0;36m__call_api\u001b[0;34m(self, resource_path, method, path_params, query_params, header_params, body, post_params, files, response_type, auth_settings, _return_http_data_only, collection_formats, _preload_content, _request_timeout)\u001b[0m\n\u001b[1;32m    159\u001b[0m             \u001b[0mpost_params\u001b[0m\u001b[0;34m=\u001b[0m\u001b[0mpost_params\u001b[0m\u001b[0;34m,\u001b[0m \u001b[0mbody\u001b[0m\u001b[0;34m=\u001b[0m\u001b[0mbody\u001b[0m\u001b[0;34m,\u001b[0m\u001b[0;34m\u001b[0m\u001b[0;34m\u001b[0m\u001b[0m\n\u001b[1;32m    160\u001b[0m             \u001b[0m_preload_content\u001b[0m\u001b[0;34m=\u001b[0m\u001b[0m_preload_content\u001b[0m\u001b[0;34m,\u001b[0m\u001b[0;34m\u001b[0m\u001b[0;34m\u001b[0m\u001b[0m\n\u001b[0;32m--> 161\u001b[0;31m             _request_timeout=_request_timeout)\n\u001b[0m\u001b[1;32m    162\u001b[0m \u001b[0;34m\u001b[0m\u001b[0m\n\u001b[1;32m    163\u001b[0m         \u001b[0mself\u001b[0m\u001b[0;34m.\u001b[0m\u001b[0mlast_response\u001b[0m \u001b[0;34m=\u001b[0m \u001b[0mresponse_data\u001b[0m\u001b[0;34m\u001b[0m\u001b[0;34m\u001b[0m\u001b[0m\n",
      "\u001b[0;32m~/developer/kubeflow-pipeline-examples/automl_kfp/.venv/lib/python3.7/site-packages/kfp_server_api/api_client.py\u001b[0m in \u001b[0;36mrequest\u001b[0;34m(self, method, url, query_params, headers, post_params, body, _preload_content, _request_timeout)\u001b[0m\n\u001b[1;32m    371\u001b[0m                                          \u001b[0m_preload_content\u001b[0m\u001b[0;34m=\u001b[0m\u001b[0m_preload_content\u001b[0m\u001b[0;34m,\u001b[0m\u001b[0;34m\u001b[0m\u001b[0;34m\u001b[0m\u001b[0m\n\u001b[1;32m    372\u001b[0m                                          \u001b[0m_request_timeout\u001b[0m\u001b[0;34m=\u001b[0m\u001b[0m_request_timeout\u001b[0m\u001b[0;34m,\u001b[0m\u001b[0;34m\u001b[0m\u001b[0;34m\u001b[0m\u001b[0m\n\u001b[0;32m--> 373\u001b[0;31m                                          body=body)\n\u001b[0m\u001b[1;32m    374\u001b[0m         \u001b[0;32melif\u001b[0m \u001b[0mmethod\u001b[0m \u001b[0;34m==\u001b[0m \u001b[0;34m\"PUT\"\u001b[0m\u001b[0;34m:\u001b[0m\u001b[0;34m\u001b[0m\u001b[0;34m\u001b[0m\u001b[0m\n\u001b[1;32m    375\u001b[0m             return self.rest_client.PUT(url,\n",
      "\u001b[0;32m~/developer/kubeflow-pipeline-examples/automl_kfp/.venv/lib/python3.7/site-packages/kfp_server_api/rest.py\u001b[0m in \u001b[0;36mPOST\u001b[0;34m(self, url, headers, query_params, post_params, body, _preload_content, _request_timeout)\u001b[0m\n\u001b[1;32m    273\u001b[0m                             \u001b[0m_preload_content\u001b[0m\u001b[0;34m=\u001b[0m\u001b[0m_preload_content\u001b[0m\u001b[0;34m,\u001b[0m\u001b[0;34m\u001b[0m\u001b[0;34m\u001b[0m\u001b[0m\n\u001b[1;32m    274\u001b[0m                             \u001b[0m_request_timeout\u001b[0m\u001b[0;34m=\u001b[0m\u001b[0m_request_timeout\u001b[0m\u001b[0;34m,\u001b[0m\u001b[0;34m\u001b[0m\u001b[0;34m\u001b[0m\u001b[0m\n\u001b[0;32m--> 275\u001b[0;31m                             body=body)\n\u001b[0m\u001b[1;32m    276\u001b[0m \u001b[0;34m\u001b[0m\u001b[0m\n\u001b[1;32m    277\u001b[0m     def PUT(self, url, headers=None, query_params=None, post_params=None,\n",
      "\u001b[0;32m~/developer/kubeflow-pipeline-examples/automl_kfp/.venv/lib/python3.7/site-packages/kfp_server_api/rest.py\u001b[0m in \u001b[0;36mrequest\u001b[0;34m(self, method, url, query_params, headers, body, post_params, _preload_content, _request_timeout)\u001b[0m\n\u001b[1;32m    226\u001b[0m \u001b[0;34m\u001b[0m\u001b[0m\n\u001b[1;32m    227\u001b[0m         \u001b[0;32mif\u001b[0m \u001b[0;32mnot\u001b[0m \u001b[0;36m200\u001b[0m \u001b[0;34m<=\u001b[0m \u001b[0mr\u001b[0m\u001b[0;34m.\u001b[0m\u001b[0mstatus\u001b[0m \u001b[0;34m<=\u001b[0m \u001b[0;36m299\u001b[0m\u001b[0;34m:\u001b[0m\u001b[0;34m\u001b[0m\u001b[0;34m\u001b[0m\u001b[0m\n\u001b[0;32m--> 228\u001b[0;31m             \u001b[0;32mraise\u001b[0m \u001b[0mApiException\u001b[0m\u001b[0;34m(\u001b[0m\u001b[0mhttp_resp\u001b[0m\u001b[0;34m=\u001b[0m\u001b[0mr\u001b[0m\u001b[0;34m)\u001b[0m\u001b[0;34m\u001b[0m\u001b[0;34m\u001b[0m\u001b[0m\n\u001b[0m\u001b[1;32m    229\u001b[0m \u001b[0;34m\u001b[0m\u001b[0m\n\u001b[1;32m    230\u001b[0m         \u001b[0;32mreturn\u001b[0m \u001b[0mr\u001b[0m\u001b[0;34m\u001b[0m\u001b[0;34m\u001b[0m\u001b[0m\n",
      "\u001b[0;31mApiException\u001b[0m: (401)\nReason: Unauthorized\nHTTP response headers: HTTPHeaderDict({'Content-Length': '1452', 'Content-Type': 'text/html; charset=utf-8', 'Date': 'Tue, 03 Dec 2019 01:03:54 GMT', 'X-Content-Type-Options': 'nosniff', 'X-Frame-Options': 'SAMEORIGIN', 'X-Xss-Protection': '0', 'Set-Cookie': 'S=cloud_datalab_tunnel=4enqArZc86dm7BYyGvVwypMUGv2LTIZA; Path=/; Max-Age=3600'})\nHTTP response body: \n<!DOCTYPE html>\n<html lang=en>\n  <meta charset=utf-8>\n  <meta name=viewport content=\"initial-scale=1, minimum-scale=1, width=device-width\">\n  <title>Error 401 (Unauthorized)!!1</title>\n  <style>\n    *{margin:0;padding:0}html,code{font:15px/22px arial,sans-serif}html{background:#fff;color:#222;padding:15px}body{margin:7% auto 0;max-width:390px;min-height:180px;padding:30px 0 15px}* > body{background:url(//www.google.com/images/errors/robot.png) 100% 5px no-repeat;padding-right:205px}p{margin:11px 0 22px;overflow:hidden}ins{color:#777;text-decoration:none}a img{border:0}@media screen and (max-width:772px){body{background:none;margin-top:0;max-width:none;padding-right:0}}#logo{background:url(//www.google.com/images/logos/errorpage/error_logo-150x54.png) no-repeat;margin-left:-5px}@media only screen and (min-resolution:192dpi){#logo{background:url(//www.google.com/images/logos/errorpage/error_logo-150x54-2x.png) no-repeat 0% 0%/100% 100%;-moz-border-image:url(//www.google.com/images/logos/errorpage/error_logo-150x54-2x.png) 0}}@media only screen and (-webkit-min-device-pixel-ratio:2){#logo{background:url(//www.google.com/images/logos/errorpage/error_logo-150x54-2x.png) no-repeat;-webkit-background-size:100% 100%}}#logo{display:inline-block;height:54px;width:150px}\n  </style>\n  <a href=//www.google.com/><span id=logo aria-label=Google></span></a>\n  <p><b>401.</b> <ins>That’s an error.</ins>\n  <p>  <ins>That’s all we know.</ins>\n\n"
     ]
    }
   ],
   "metadata": {},
   "execution_count": 30
  },
  {
   "cell_type": "code",
   "metadata": {},
   "outputs": [],
   "source": [
    "!gcloud container clusters list"
   ]
  },
  {
   "cell_type": "code",
   "metadata": {},
   "outputs": [],
   "source": [
    "!gcloud container clusters get-credentials kubeflow-marketplace-1 --zone us-central1-a"
   ]
  },
  {
   "cell_type": "code",
   "execution_count": 32,
   "metadata": {},
   "outputs": [
    {
     "ename": "AttributeError",
     "evalue": "'AutoMlClient' object has no attribute 'list_table_specs'",
     "output_type": "error",
     "traceback": [
      "\u001b[0;31m---------------------------------------------------------------------------\u001b[0m",
      "\u001b[0;31mAttributeError\u001b[0m                            Traceback (most recent call last)",
      "\u001b[0;32m<ipython-input-32-7d91628ba487>\u001b[0m in \u001b[0;36m<module>\u001b[0;34m\u001b[0m\n\u001b[1;32m      1\u001b[0m \u001b[0mdataset_path\u001b[0m \u001b[0;34m=\u001b[0m \u001b[0;34m'projects/978546835329/locations/us-central1/datasets/TBL5712864505831096320'\u001b[0m\u001b[0;34m\u001b[0m\u001b[0;34m\u001b[0m\u001b[0m\n\u001b[1;32m      2\u001b[0m \u001b[0mclient\u001b[0m \u001b[0;34m=\u001b[0m \u001b[0mautoml\u001b[0m\u001b[0;34m.\u001b[0m\u001b[0mAutoMlClient\u001b[0m\u001b[0;34m(\u001b[0m\u001b[0;34m)\u001b[0m\u001b[0;34m\u001b[0m\u001b[0;34m\u001b[0m\u001b[0m\n\u001b[0;32m----> 3\u001b[0;31m \u001b[0mlist_table_specs_response\u001b[0m \u001b[0;34m=\u001b[0m \u001b[0mclient\u001b[0m\u001b[0;34m.\u001b[0m\u001b[0mlist_table_specs\u001b[0m\u001b[0;34m(\u001b[0m\u001b[0mdataset_path\u001b[0m\u001b[0;34m)\u001b[0m\u001b[0;34m\u001b[0m\u001b[0;34m\u001b[0m\u001b[0m\n\u001b[0m\u001b[1;32m      4\u001b[0m \u001b[0mlist_table_specs_response\u001b[0m\u001b[0;34m\u001b[0m\u001b[0;34m\u001b[0m\u001b[0m\n\u001b[1;32m      5\u001b[0m \u001b[0mtable_specs\u001b[0m \u001b[0;34m=\u001b[0m \u001b[0;34m[\u001b[0m\u001b[0ms\u001b[0m \u001b[0;32mfor\u001b[0m \u001b[0ms\u001b[0m \u001b[0;32min\u001b[0m \u001b[0mlist_table_specs_response\u001b[0m\u001b[0;34m]\u001b[0m\u001b[0;34m\u001b[0m\u001b[0;34m\u001b[0m\u001b[0m\n",
      "\u001b[0;31mAttributeError\u001b[0m: 'AutoMlClient' object has no attribute 'list_table_specs'"
     ]
    }
   ],
   "source": [
    "dataset_path = 'projects/978546835329/locations/us-central1/datasets/TBL5712864505831096320'\n",
    "client = automl.AutoMlClient()\n",
    "list_table_specs_response = client.list_table_specs(dataset_path)\n",
    "list_table_specs_response\n",
    "table_specs = [s for s in list_table_specs_response]\n",
    "print('table_specs=')\n",
    "print(table_specs)\n",
    "table_spec_name = table_specs[0].name\n",
    "\n",
    "list_column_specs_response = client.list_column_specs(table_spec_name)\n",
    "column_specs = [s for s in list_column_specs_response]\n",
    "#client.get_column_spec('passengers')\n",
    "for column in column_specs:\n",
    "    if column.display_name == 'passengers':\n",
    "        passenger_column = column.name\n",
    "\n",
    "print('column_specs=')\n",
    "#print(column_specs)\n",
    "\n",
    "column = client.get_column_spec(passenger_column)\n",
    "print(column)\n",
    "\n",
    "#client = automl_v1beta1.TablesClient()\n",
    "\n",
    "client.update_column_spec(column_spec_name=passenger_column, type_code='NUMERIC')"
   ]
  },
  {
   "cell_type": "code",
   "metadata": {},
   "outputs": [],
   "source": [
    "column.name"
   ]
  },
  {
   "cell_type": "code",
   "metadata": {},
   "outputs": [],
   "source": []
  },
  {
   "cell_type": "code",
   "metadata": {},
   "outputs": [],
   "source": [
    "table_specs[]"
   ]
  },
  {
   "cell_type": "code",
   "metadata": {},
   "outputs": [],
   "source": [
    "kfp.run_pipeline_func_on_cluster(\n",
    "    serverless_ml_taxi_pipeline,\n",
    "    arguments = dict(\n",
    "        gcp_project_id=PROJECT_ID,\n",
    "        gcp_region=COMPUTE_REGION,\n",
    "        display_name='taxi_data'\n",
    "    )\n",
    ")"
   ]
  }
 ],
 "metadata": {
  "kernelspec": {
   "display_name": "Python 3",
   "language": "python",
   "name": "python3"
  },
  "language_info": {
   "codemirror_mode": {
    "name": "ipython",
    "version": 3
   },
   "file_extension": ".py",
   "mimetype": "text/x-python",
   "name": "python",
   "nbconvert_exporter": "python",
   "pygments_lexer": "ipython3",
   "version": "3.7.1"
  }
 },
 "nbformat": 4,
 "nbformat_minor": 4
}